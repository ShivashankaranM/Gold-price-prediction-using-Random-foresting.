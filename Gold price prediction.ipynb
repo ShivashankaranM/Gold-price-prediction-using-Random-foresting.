{
 "cells": [
  {
   "cell_type": "code",
   "execution_count": 1,
   "id": "4181c5bd",
   "metadata": {},
   "outputs": [],
   "source": [
    "import numpy as np\n",
    "import pandas as pd\n",
    "import matplotlib.pyplot as plt\n",
    "import seaborn as sns\n",
    "from sklearn.model_selection import train_test_split\n",
    "from sklearn.ensemble import RandomForestRegressor\n",
    "from sklearn import metrics"
   ]
  },
  {
   "cell_type": "code",
   "execution_count": 3,
   "id": "8e8e8691",
   "metadata": {},
   "outputs": [],
   "source": [
    "gd = pd.read_csv('C:/Users/muruganusha/goldpricedata.csv')"
   ]
  },
  {
   "cell_type": "code",
   "execution_count": 4,
   "id": "3fe08aaf",
   "metadata": {},
   "outputs": [
    {
     "data": {
      "text/html": [
       "<div>\n",
       "<style scoped>\n",
       "    .dataframe tbody tr th:only-of-type {\n",
       "        vertical-align: middle;\n",
       "    }\n",
       "\n",
       "    .dataframe tbody tr th {\n",
       "        vertical-align: top;\n",
       "    }\n",
       "\n",
       "    .dataframe thead th {\n",
       "        text-align: right;\n",
       "    }\n",
       "</style>\n",
       "<table border=\"1\" class=\"dataframe\">\n",
       "  <thead>\n",
       "    <tr style=\"text-align: right;\">\n",
       "      <th></th>\n",
       "      <th>Date</th>\n",
       "      <th>SPX</th>\n",
       "      <th>GLD</th>\n",
       "      <th>USO</th>\n",
       "      <th>SLV</th>\n",
       "      <th>EUR/USD</th>\n",
       "    </tr>\n",
       "  </thead>\n",
       "  <tbody>\n",
       "    <tr>\n",
       "      <th>0</th>\n",
       "      <td>01-02-2008</td>\n",
       "      <td>1447.160034</td>\n",
       "      <td>84.860001</td>\n",
       "      <td>78.470001</td>\n",
       "      <td>15.1800</td>\n",
       "      <td>1.471692</td>\n",
       "    </tr>\n",
       "    <tr>\n",
       "      <th>1</th>\n",
       "      <td>01-03-2008</td>\n",
       "      <td>1447.160034</td>\n",
       "      <td>85.570000</td>\n",
       "      <td>78.370003</td>\n",
       "      <td>15.2850</td>\n",
       "      <td>1.474491</td>\n",
       "    </tr>\n",
       "    <tr>\n",
       "      <th>2</th>\n",
       "      <td>01-04-2008</td>\n",
       "      <td>1411.630005</td>\n",
       "      <td>85.129997</td>\n",
       "      <td>77.309998</td>\n",
       "      <td>15.1670</td>\n",
       "      <td>1.475492</td>\n",
       "    </tr>\n",
       "    <tr>\n",
       "      <th>3</th>\n",
       "      <td>01-07-2008</td>\n",
       "      <td>1416.180054</td>\n",
       "      <td>84.769997</td>\n",
       "      <td>75.500000</td>\n",
       "      <td>15.0530</td>\n",
       "      <td>1.468299</td>\n",
       "    </tr>\n",
       "    <tr>\n",
       "      <th>4</th>\n",
       "      <td>01-08-2008</td>\n",
       "      <td>1390.189941</td>\n",
       "      <td>86.779999</td>\n",
       "      <td>76.059998</td>\n",
       "      <td>15.5900</td>\n",
       "      <td>1.557099</td>\n",
       "    </tr>\n",
       "    <tr>\n",
       "      <th>...</th>\n",
       "      <td>...</td>\n",
       "      <td>...</td>\n",
       "      <td>...</td>\n",
       "      <td>...</td>\n",
       "      <td>...</td>\n",
       "      <td>...</td>\n",
       "    </tr>\n",
       "    <tr>\n",
       "      <th>2285</th>\n",
       "      <td>05-08-2018</td>\n",
       "      <td>2671.919922</td>\n",
       "      <td>124.589996</td>\n",
       "      <td>14.060000</td>\n",
       "      <td>15.5100</td>\n",
       "      <td>1.186789</td>\n",
       "    </tr>\n",
       "    <tr>\n",
       "      <th>2286</th>\n",
       "      <td>05-09-2018</td>\n",
       "      <td>2697.790039</td>\n",
       "      <td>124.330002</td>\n",
       "      <td>14.370000</td>\n",
       "      <td>15.5300</td>\n",
       "      <td>1.184722</td>\n",
       "    </tr>\n",
       "    <tr>\n",
       "      <th>2287</th>\n",
       "      <td>05-10-2018</td>\n",
       "      <td>2723.070068</td>\n",
       "      <td>125.180000</td>\n",
       "      <td>14.410000</td>\n",
       "      <td>15.7400</td>\n",
       "      <td>1.191753</td>\n",
       "    </tr>\n",
       "    <tr>\n",
       "      <th>2288</th>\n",
       "      <td>5/14/2018</td>\n",
       "      <td>2730.129883</td>\n",
       "      <td>124.489998</td>\n",
       "      <td>14.380000</td>\n",
       "      <td>15.5600</td>\n",
       "      <td>1.193118</td>\n",
       "    </tr>\n",
       "    <tr>\n",
       "      <th>2289</th>\n",
       "      <td>5/16/2018</td>\n",
       "      <td>2725.780029</td>\n",
       "      <td>122.543800</td>\n",
       "      <td>14.405800</td>\n",
       "      <td>15.4542</td>\n",
       "      <td>1.182033</td>\n",
       "    </tr>\n",
       "  </tbody>\n",
       "</table>\n",
       "<p>2290 rows × 6 columns</p>\n",
       "</div>"
      ],
      "text/plain": [
       "            Date          SPX         GLD        USO      SLV   EUR/USD\n",
       "0     01-02-2008  1447.160034   84.860001  78.470001  15.1800  1.471692\n",
       "1     01-03-2008  1447.160034   85.570000  78.370003  15.2850  1.474491\n",
       "2     01-04-2008  1411.630005   85.129997  77.309998  15.1670  1.475492\n",
       "3     01-07-2008  1416.180054   84.769997  75.500000  15.0530  1.468299\n",
       "4     01-08-2008  1390.189941   86.779999  76.059998  15.5900  1.557099\n",
       "...          ...          ...         ...        ...      ...       ...\n",
       "2285  05-08-2018  2671.919922  124.589996  14.060000  15.5100  1.186789\n",
       "2286  05-09-2018  2697.790039  124.330002  14.370000  15.5300  1.184722\n",
       "2287  05-10-2018  2723.070068  125.180000  14.410000  15.7400  1.191753\n",
       "2288   5/14/2018  2730.129883  124.489998  14.380000  15.5600  1.193118\n",
       "2289   5/16/2018  2725.780029  122.543800  14.405800  15.4542  1.182033\n",
       "\n",
       "[2290 rows x 6 columns]"
      ]
     },
     "execution_count": 4,
     "metadata": {},
     "output_type": "execute_result"
    }
   ],
   "source": [
    "gd"
   ]
  },
  {
   "cell_type": "code",
   "execution_count": 5,
   "id": "912f8ecb",
   "metadata": {},
   "outputs": [
    {
     "data": {
      "text/html": [
       "<div>\n",
       "<style scoped>\n",
       "    .dataframe tbody tr th:only-of-type {\n",
       "        vertical-align: middle;\n",
       "    }\n",
       "\n",
       "    .dataframe tbody tr th {\n",
       "        vertical-align: top;\n",
       "    }\n",
       "\n",
       "    .dataframe thead th {\n",
       "        text-align: right;\n",
       "    }\n",
       "</style>\n",
       "<table border=\"1\" class=\"dataframe\">\n",
       "  <thead>\n",
       "    <tr style=\"text-align: right;\">\n",
       "      <th></th>\n",
       "      <th>Date</th>\n",
       "      <th>SPX</th>\n",
       "      <th>GLD</th>\n",
       "      <th>USO</th>\n",
       "      <th>SLV</th>\n",
       "      <th>EUR/USD</th>\n",
       "    </tr>\n",
       "  </thead>\n",
       "  <tbody>\n",
       "    <tr>\n",
       "      <th>0</th>\n",
       "      <td>01-02-2008</td>\n",
       "      <td>1447.160034</td>\n",
       "      <td>84.860001</td>\n",
       "      <td>78.470001</td>\n",
       "      <td>15.180</td>\n",
       "      <td>1.471692</td>\n",
       "    </tr>\n",
       "    <tr>\n",
       "      <th>1</th>\n",
       "      <td>01-03-2008</td>\n",
       "      <td>1447.160034</td>\n",
       "      <td>85.570000</td>\n",
       "      <td>78.370003</td>\n",
       "      <td>15.285</td>\n",
       "      <td>1.474491</td>\n",
       "    </tr>\n",
       "    <tr>\n",
       "      <th>2</th>\n",
       "      <td>01-04-2008</td>\n",
       "      <td>1411.630005</td>\n",
       "      <td>85.129997</td>\n",
       "      <td>77.309998</td>\n",
       "      <td>15.167</td>\n",
       "      <td>1.475492</td>\n",
       "    </tr>\n",
       "    <tr>\n",
       "      <th>3</th>\n",
       "      <td>01-07-2008</td>\n",
       "      <td>1416.180054</td>\n",
       "      <td>84.769997</td>\n",
       "      <td>75.500000</td>\n",
       "      <td>15.053</td>\n",
       "      <td>1.468299</td>\n",
       "    </tr>\n",
       "    <tr>\n",
       "      <th>4</th>\n",
       "      <td>01-08-2008</td>\n",
       "      <td>1390.189941</td>\n",
       "      <td>86.779999</td>\n",
       "      <td>76.059998</td>\n",
       "      <td>15.590</td>\n",
       "      <td>1.557099</td>\n",
       "    </tr>\n",
       "  </tbody>\n",
       "</table>\n",
       "</div>"
      ],
      "text/plain": [
       "         Date          SPX        GLD        USO     SLV   EUR/USD\n",
       "0  01-02-2008  1447.160034  84.860001  78.470001  15.180  1.471692\n",
       "1  01-03-2008  1447.160034  85.570000  78.370003  15.285  1.474491\n",
       "2  01-04-2008  1411.630005  85.129997  77.309998  15.167  1.475492\n",
       "3  01-07-2008  1416.180054  84.769997  75.500000  15.053  1.468299\n",
       "4  01-08-2008  1390.189941  86.779999  76.059998  15.590  1.557099"
      ]
     },
     "execution_count": 5,
     "metadata": {},
     "output_type": "execute_result"
    }
   ],
   "source": [
    "gd.head()"
   ]
  },
  {
   "cell_type": "code",
   "execution_count": 6,
   "id": "7be482e0",
   "metadata": {},
   "outputs": [
    {
     "data": {
      "text/plain": [
       "(2290, 6)"
      ]
     },
     "execution_count": 6,
     "metadata": {},
     "output_type": "execute_result"
    }
   ],
   "source": [
    "gd.shape"
   ]
  },
  {
   "cell_type": "code",
   "execution_count": 7,
   "id": "46054ab8",
   "metadata": {},
   "outputs": [
    {
     "data": {
      "text/plain": [
       "<bound method DataFrame.info of             Date          SPX         GLD        USO      SLV   EUR/USD\n",
       "0     01-02-2008  1447.160034   84.860001  78.470001  15.1800  1.471692\n",
       "1     01-03-2008  1447.160034   85.570000  78.370003  15.2850  1.474491\n",
       "2     01-04-2008  1411.630005   85.129997  77.309998  15.1670  1.475492\n",
       "3     01-07-2008  1416.180054   84.769997  75.500000  15.0530  1.468299\n",
       "4     01-08-2008  1390.189941   86.779999  76.059998  15.5900  1.557099\n",
       "...          ...          ...         ...        ...      ...       ...\n",
       "2285  05-08-2018  2671.919922  124.589996  14.060000  15.5100  1.186789\n",
       "2286  05-09-2018  2697.790039  124.330002  14.370000  15.5300  1.184722\n",
       "2287  05-10-2018  2723.070068  125.180000  14.410000  15.7400  1.191753\n",
       "2288   5/14/2018  2730.129883  124.489998  14.380000  15.5600  1.193118\n",
       "2289   5/16/2018  2725.780029  122.543800  14.405800  15.4542  1.182033\n",
       "\n",
       "[2290 rows x 6 columns]>"
      ]
     },
     "execution_count": 7,
     "metadata": {},
     "output_type": "execute_result"
    }
   ],
   "source": [
    "gd.info"
   ]
  },
  {
   "cell_type": "code",
   "execution_count": 8,
   "id": "734ca1f0",
   "metadata": {},
   "outputs": [
    {
     "data": {
      "text/html": [
       "<div>\n",
       "<style scoped>\n",
       "    .dataframe tbody tr th:only-of-type {\n",
       "        vertical-align: middle;\n",
       "    }\n",
       "\n",
       "    .dataframe tbody tr th {\n",
       "        vertical-align: top;\n",
       "    }\n",
       "\n",
       "    .dataframe thead th {\n",
       "        text-align: right;\n",
       "    }\n",
       "</style>\n",
       "<table border=\"1\" class=\"dataframe\">\n",
       "  <thead>\n",
       "    <tr style=\"text-align: right;\">\n",
       "      <th></th>\n",
       "      <th>SPX</th>\n",
       "      <th>GLD</th>\n",
       "      <th>USO</th>\n",
       "      <th>SLV</th>\n",
       "      <th>EUR/USD</th>\n",
       "    </tr>\n",
       "  </thead>\n",
       "  <tbody>\n",
       "    <tr>\n",
       "      <th>count</th>\n",
       "      <td>2290.000000</td>\n",
       "      <td>2290.000000</td>\n",
       "      <td>2290.000000</td>\n",
       "      <td>2290.000000</td>\n",
       "      <td>2290.000000</td>\n",
       "    </tr>\n",
       "    <tr>\n",
       "      <th>mean</th>\n",
       "      <td>1654.315776</td>\n",
       "      <td>122.732875</td>\n",
       "      <td>31.842221</td>\n",
       "      <td>20.084997</td>\n",
       "      <td>1.283653</td>\n",
       "    </tr>\n",
       "    <tr>\n",
       "      <th>std</th>\n",
       "      <td>519.111540</td>\n",
       "      <td>23.283346</td>\n",
       "      <td>19.523517</td>\n",
       "      <td>7.092566</td>\n",
       "      <td>0.131547</td>\n",
       "    </tr>\n",
       "    <tr>\n",
       "      <th>min</th>\n",
       "      <td>676.530029</td>\n",
       "      <td>70.000000</td>\n",
       "      <td>7.960000</td>\n",
       "      <td>8.850000</td>\n",
       "      <td>1.039047</td>\n",
       "    </tr>\n",
       "    <tr>\n",
       "      <th>25%</th>\n",
       "      <td>1239.874969</td>\n",
       "      <td>109.725000</td>\n",
       "      <td>14.380000</td>\n",
       "      <td>15.570000</td>\n",
       "      <td>1.171313</td>\n",
       "    </tr>\n",
       "    <tr>\n",
       "      <th>50%</th>\n",
       "      <td>1551.434998</td>\n",
       "      <td>120.580002</td>\n",
       "      <td>33.869999</td>\n",
       "      <td>17.268500</td>\n",
       "      <td>1.303297</td>\n",
       "    </tr>\n",
       "    <tr>\n",
       "      <th>75%</th>\n",
       "      <td>2073.010070</td>\n",
       "      <td>132.840004</td>\n",
       "      <td>37.827501</td>\n",
       "      <td>22.882500</td>\n",
       "      <td>1.369971</td>\n",
       "    </tr>\n",
       "    <tr>\n",
       "      <th>max</th>\n",
       "      <td>2872.870117</td>\n",
       "      <td>184.589996</td>\n",
       "      <td>117.480003</td>\n",
       "      <td>47.259998</td>\n",
       "      <td>1.598798</td>\n",
       "    </tr>\n",
       "  </tbody>\n",
       "</table>\n",
       "</div>"
      ],
      "text/plain": [
       "               SPX          GLD          USO          SLV      EUR/USD\n",
       "count  2290.000000  2290.000000  2290.000000  2290.000000  2290.000000\n",
       "mean   1654.315776   122.732875    31.842221    20.084997     1.283653\n",
       "std     519.111540    23.283346    19.523517     7.092566     0.131547\n",
       "min     676.530029    70.000000     7.960000     8.850000     1.039047\n",
       "25%    1239.874969   109.725000    14.380000    15.570000     1.171313\n",
       "50%    1551.434998   120.580002    33.869999    17.268500     1.303297\n",
       "75%    2073.010070   132.840004    37.827501    22.882500     1.369971\n",
       "max    2872.870117   184.589996   117.480003    47.259998     1.598798"
      ]
     },
     "execution_count": 8,
     "metadata": {},
     "output_type": "execute_result"
    }
   ],
   "source": [
    "gd.describe()"
   ]
  },
  {
   "cell_type": "code",
   "execution_count": 9,
   "id": "5ac60e16",
   "metadata": {},
   "outputs": [
    {
     "data": {
      "text/plain": [
       "Date       0\n",
       "SPX        0\n",
       "GLD        0\n",
       "USO        0\n",
       "SLV        0\n",
       "EUR/USD    0\n",
       "dtype: int64"
      ]
     },
     "execution_count": 9,
     "metadata": {},
     "output_type": "execute_result"
    }
   ],
   "source": [
    "gd.isnull().sum()"
   ]
  },
  {
   "cell_type": "code",
   "execution_count": 10,
   "id": "a615dae3",
   "metadata": {},
   "outputs": [],
   "source": [
    "corr = gd.corr()"
   ]
  },
  {
   "cell_type": "code",
   "execution_count": 11,
   "id": "0ac1c094",
   "metadata": {},
   "outputs": [
    {
     "data": {
      "text/plain": [
       "<AxesSubplot:>"
      ]
     },
     "execution_count": 11,
     "metadata": {},
     "output_type": "execute_result"
    },
    {
     "data": {
      "image/png": "[encoded data removed]",
      "text/plain": [
       "<Figure size 576x576 with 2 Axes>"
      ]
     },
     "metadata": {
      "needs_background": "light"
     },
     "output_type": "display_data"
    }
   ],
   "source": [
    "plt.figure(figsize=(8,8))\n",
    "sns.heatmap(corr, cbar=True, square=True, fmt = '.1f', annot=True, annot_kws = {'size':8},cmap='Blues')"
   ]
  },
  {
   "cell_type": "code",
   "execution_count": 12,
   "id": "0a2132a8",
   "metadata": {},
   "outputs": [
    {
     "data": {
      "text/plain": [
       "SPX        0.049345\n",
       "GLD        1.000000\n",
       "USO       -0.186360\n",
       "SLV        0.866632\n",
       "EUR/USD   -0.024375\n",
       "Name: GLD, dtype: float64"
      ]
     },
     "execution_count": 12,
     "metadata": {},
     "output_type": "execute_result"
    }
   ],
   "source": [
    "corr['GLD']"
   ]
  },
  {
   "cell_type": "code",
   "execution_count": 13,
   "id": "68b669ce",
   "metadata": {},
   "outputs": [
    {
     "data": {
      "text/plain": [
       "<AxesSubplot:xlabel='GLD', ylabel='Count'>"
      ]
     },
     "execution_count": 13,
     "metadata": {},
     "output_type": "execute_result"
    },
    {
     "data": {
      "image/png": "[encoded data removed]",
      "text/plain": [
       "<Figure size 432x288 with 1 Axes>"
      ]
     },
     "metadata": {
      "needs_background": "light"
     },
     "output_type": "display_data"
    }
   ],
   "source": [
    "sns.histplot(gd['GLD'], color='green')"
   ]
  },
  {
   "cell_type": "code",
   "execution_count": 14,
   "id": "d400fe1c",
   "metadata": {},
   "outputs": [
    {
     "data": {
      "text/html": [
       "<div>\n",
       "<style scoped>\n",
       "    .dataframe tbody tr th:only-of-type {\n",
       "        vertical-align: middle;\n",
       "    }\n",
       "\n",
       "    .dataframe tbody tr th {\n",
       "        vertical-align: top;\n",
       "    }\n",
       "\n",
       "    .dataframe thead th {\n",
       "        text-align: right;\n",
       "    }\n",
       "</style>\n",
       "<table border=\"1\" class=\"dataframe\">\n",
       "  <thead>\n",
       "    <tr style=\"text-align: right;\">\n",
       "      <th></th>\n",
       "      <th>SPX</th>\n",
       "      <th>USO</th>\n",
       "      <th>SLV</th>\n",
       "      <th>EUR/USD</th>\n",
       "    </tr>\n",
       "  </thead>\n",
       "  <tbody>\n",
       "    <tr>\n",
       "      <th>0</th>\n",
       "      <td>1447.160034</td>\n",
       "      <td>78.470001</td>\n",
       "      <td>15.1800</td>\n",
       "      <td>1.471692</td>\n",
       "    </tr>\n",
       "    <tr>\n",
       "      <th>1</th>\n",
       "      <td>1447.160034</td>\n",
       "      <td>78.370003</td>\n",
       "      <td>15.2850</td>\n",
       "      <td>1.474491</td>\n",
       "    </tr>\n",
       "    <tr>\n",
       "      <th>2</th>\n",
       "      <td>1411.630005</td>\n",
       "      <td>77.309998</td>\n",
       "      <td>15.1670</td>\n",
       "      <td>1.475492</td>\n",
       "    </tr>\n",
       "    <tr>\n",
       "      <th>3</th>\n",
       "      <td>1416.180054</td>\n",
       "      <td>75.500000</td>\n",
       "      <td>15.0530</td>\n",
       "      <td>1.468299</td>\n",
       "    </tr>\n",
       "    <tr>\n",
       "      <th>4</th>\n",
       "      <td>1390.189941</td>\n",
       "      <td>76.059998</td>\n",
       "      <td>15.5900</td>\n",
       "      <td>1.557099</td>\n",
       "    </tr>\n",
       "    <tr>\n",
       "      <th>...</th>\n",
       "      <td>...</td>\n",
       "      <td>...</td>\n",
       "      <td>...</td>\n",
       "      <td>...</td>\n",
       "    </tr>\n",
       "    <tr>\n",
       "      <th>2285</th>\n",
       "      <td>2671.919922</td>\n",
       "      <td>14.060000</td>\n",
       "      <td>15.5100</td>\n",
       "      <td>1.186789</td>\n",
       "    </tr>\n",
       "    <tr>\n",
       "      <th>2286</th>\n",
       "      <td>2697.790039</td>\n",
       "      <td>14.370000</td>\n",
       "      <td>15.5300</td>\n",
       "      <td>1.184722</td>\n",
       "    </tr>\n",
       "    <tr>\n",
       "      <th>2287</th>\n",
       "      <td>2723.070068</td>\n",
       "      <td>14.410000</td>\n",
       "      <td>15.7400</td>\n",
       "      <td>1.191753</td>\n",
       "    </tr>\n",
       "    <tr>\n",
       "      <th>2288</th>\n",
       "      <td>2730.129883</td>\n",
       "      <td>14.380000</td>\n",
       "      <td>15.5600</td>\n",
       "      <td>1.193118</td>\n",
       "    </tr>\n",
       "    <tr>\n",
       "      <th>2289</th>\n",
       "      <td>2725.780029</td>\n",
       "      <td>14.405800</td>\n",
       "      <td>15.4542</td>\n",
       "      <td>1.182033</td>\n",
       "    </tr>\n",
       "  </tbody>\n",
       "</table>\n",
       "<p>2290 rows × 4 columns</p>\n",
       "</div>"
      ],
      "text/plain": [
       "              SPX        USO      SLV   EUR/USD\n",
       "0     1447.160034  78.470001  15.1800  1.471692\n",
       "1     1447.160034  78.370003  15.2850  1.474491\n",
       "2     1411.630005  77.309998  15.1670  1.475492\n",
       "3     1416.180054  75.500000  15.0530  1.468299\n",
       "4     1390.189941  76.059998  15.5900  1.557099\n",
       "...           ...        ...      ...       ...\n",
       "2285  2671.919922  14.060000  15.5100  1.186789\n",
       "2286  2697.790039  14.370000  15.5300  1.184722\n",
       "2287  2723.070068  14.410000  15.7400  1.191753\n",
       "2288  2730.129883  14.380000  15.5600  1.193118\n",
       "2289  2725.780029  14.405800  15.4542  1.182033\n",
       "\n",
       "[2290 rows x 4 columns]"
      ]
     },
     "execution_count": 14,
     "metadata": {},
     "output_type": "execute_result"
    }
   ],
   "source": [
    "x=gd.drop(['Date','GLD'],axis = 1)\n",
    "y=gd['GLD']\n",
    "x"
   ]
  },
  {
   "cell_type": "code",
   "execution_count": 15,
   "id": "d7e8949a",
   "metadata": {},
   "outputs": [
    {
     "data": {
      "text/plain": [
       "0        84.860001\n",
       "1        85.570000\n",
       "2        85.129997\n",
       "3        84.769997\n",
       "4        86.779999\n",
       "           ...    \n",
       "2285    124.589996\n",
       "2286    124.330002\n",
       "2287    125.180000\n",
       "2288    124.489998\n",
       "2289    122.543800\n",
       "Name: GLD, Length: 2290, dtype: float64"
      ]
     },
     "execution_count": 15,
     "metadata": {},
     "output_type": "execute_result"
    }
   ],
   "source": [
    "y"
   ]
  },
  {
   "cell_type": "code",
   "execution_count": 26,
   "id": "6f57705d",
   "metadata": {},
   "outputs": [],
   "source": [
    "x_train,x_test,y_train,y_test = train_test_split(x,y,test_size=0.2,random_state=2)"
   ]
  },
  {
   "cell_type": "code",
   "execution_count": 27,
   "id": "502e2a85",
   "metadata": {},
   "outputs": [],
   "source": [
    "regressor1=RandomForestRegressor(n_estimators = 100)"
   ]
  },
  {
   "cell_type": "code",
   "execution_count": 28,
   "id": "566dbb6a",
   "metadata": {},
   "outputs": [
    {
     "data": {
      "text/plain": [
       "RandomForestRegressor()"
      ]
     },
     "execution_count": 28,
     "metadata": {},
     "output_type": "execute_result"
    }
   ],
   "source": [
    "regressor1.fit(x_train,y_train)"
   ]
  },
  {
   "cell_type": "code",
   "execution_count": 29,
   "id": "011ea040",
   "metadata": {},
   "outputs": [],
   "source": [
    "prediction1=reg.predict(x_test)"
   ]
  },
  {
   "cell_type": "code",
   "execution_count": 30,
   "id": "cf896b32",
   "metadata": {},
   "outputs": [
    {
     "data": {
      "text/plain": [
       "array([168.58799914,  82.01179978, 115.9670003 , 127.51220036,\n",
       "       120.69150138, 154.73889755, 149.88699906, 126.13110052,\n",
       "       117.32169873, 126.16820062, 116.70650135, 170.84460113,\n",
       "       141.17969779, 168.04699884, 115.12629999, 118.06140024,\n",
       "       139.15480347, 170.28470097, 159.56000327, 159.8576998 ,\n",
       "       155.2306997 , 125.47549981, 175.58379973, 157.63940326,\n",
       "       125.20650051,  93.80939985,  77.26530007, 120.68830025,\n",
       "       119.09329907, 167.44119981,  87.97850087, 125.3215997 ,\n",
       "        91.03880042, 117.63210007, 121.06869927, 136.50830023,\n",
       "       115.3704012 , 115.37840018, 148.00359969, 107.51390099,\n",
       "       104.10090223,  87.24429788, 126.55840031, 118.10780014,\n",
       "       153.27199909, 119.45950025, 108.4429998 , 107.9100983 ,\n",
       "        93.15060068, 127.09709794,  75.30090032, 113.67369897,\n",
       "       121.06630049, 111.30359925, 118.8511989 , 120.81029917,\n",
       "       159.50770086, 170.66700061, 146.9089964 ,  85.92549858,\n",
       "        94.28990016,  86.85439907,  90.47470032, 119.05950053,\n",
       "       126.52460043, 127.50320027, 168.92379938, 122.14699966,\n",
       "       117.35259914,  98.55870057, 168.05120033, 142.96749823,\n",
       "       132.2464027 , 121.28780172, 120.79679952, 119.75770059,\n",
       "       114.30370214, 118.62380024, 107.28730109, 128.0093007 ,\n",
       "       113.9826996 , 107.06660006, 116.63850106, 119.58149862,\n",
       "        89.11810035,  88.14459881, 145.92610215, 127.34639972,\n",
       "       113.53970036, 110.5086983 , 108.26369904,  77.02499895,\n",
       "       169.6628018 , 114.16169919, 121.53679925, 128.05950174,\n",
       "       155.12689833,  91.75899996, 136.12810139, 158.22580298,\n",
       "       125.75450049, 125.47230073, 130.81980089, 114.45970154,\n",
       "       119.9022003 ,  92.2040998 , 110.48959909, 167.72729915,\n",
       "       156.8095993 , 114.26139964, 106.61230133,  79.59699964,\n",
       "       113.52960019, 125.85830082, 107.24789926, 119.75070116,\n",
       "       155.65240297, 159.82489967, 119.87200003, 134.57370312,\n",
       "       101.31770021, 117.45499809, 119.3135001 , 113.00790113,\n",
       "       102.80129922, 160.42649801,  98.82800051, 148.3441991 ,\n",
       "       125.69590092, 170.04129901, 125.93109876, 127.27529802,\n",
       "       127.37660183, 113.7801994 , 112.91820063, 123.48699927,\n",
       "       102.25909898,  89.04250034, 124.22929984, 101.05159962,\n",
       "       107.1504989 , 113.61520075, 117.31340039,  99.38339941,\n",
       "       121.67490025, 163.75249958,  87.4355988 , 106.88910032,\n",
       "       117.11100119, 127.76870142, 124.10390085,  80.90029903,\n",
       "       120.44800063, 158.85189744,  87.95190019, 110.25909961,\n",
       "       118.78879916, 171.66289883, 103.03269892, 105.24150046,\n",
       "       122.41170001, 158.52349713,  87.27559812,  93.27540051,\n",
       "       112.53640046, 176.37979972, 114.80359978, 119.29050015,\n",
       "        94.49360107, 125.65060024, 165.95850153, 114.72220092,\n",
       "       116.7799014 ,  88.30219875, 148.5556004 , 120.37019933,\n",
       "        89.48649988, 111.73630007, 117.42990038, 118.88350111,\n",
       "        88.27519957,  94.10759999, 116.98870012, 118.65970208,\n",
       "       120.40430043, 126.71619831, 122.0027997 , 150.51939975,\n",
       "       165.01460065, 118.59329966, 120.41300129, 151.36110071,\n",
       "       118.44649934, 172.31019891, 105.35409955, 104.88590087,\n",
       "       149.17590071, 113.32510085, 124.88160133, 147.66640033,\n",
       "       119.63750103, 115.36240077, 112.70780013, 113.48320192,\n",
       "       140.74150226, 117.84369778, 102.93220047, 115.75670103,\n",
       "       103.39200185,  98.89080054, 117.22920066,  90.73059989,\n",
       "        91.39940075, 153.52039919, 102.65079977, 153.87930093,\n",
       "       114.4170013 , 138.75990073,  90.13059792, 115.47199979,\n",
       "       114.65549985, 122.57900053, 121.86259995, 165.0996017 ,\n",
       "        92.89619952, 135.35530105, 121.30549953, 120.72260081,\n",
       "       104.69250034, 142.76190314, 121.78179926, 116.60520043,\n",
       "       113.14160101, 127.21579724, 122.8305994 , 125.76769936,\n",
       "       121.18800077,  86.79819896, 132.63850158, 144.80440183,\n",
       "        92.69119949, 160.09959972, 159.1576021 , 126.45159908,\n",
       "       164.95069873, 108.98949976, 110.24400077, 103.79349862,\n",
       "        94.4118012 , 127.42880272, 106.93420061, 162.45169978,\n",
       "       121.82910014, 131.85150045, 130.7919014 , 160.38790037,\n",
       "        90.01969823, 175.43440176, 127.88090011, 126.73789863,\n",
       "        86.19029905, 124.45839931, 150.08749733,  89.65010029,\n",
       "       107.2002    , 109.06879988,  83.70239914, 135.59950035,\n",
       "       155.15550188, 139.56290335,  73.97690037, 152.41580169,\n",
       "       126.37320041, 126.8155    , 127.51969896, 108.54479948,\n",
       "       156.36330012, 114.47620142, 116.88130175, 124.91649973,\n",
       "       154.06360189, 121.66629996, 156.56999821,  92.88060037,\n",
       "       125.55140126, 125.71350024,  88.13700046,  92.28989904,\n",
       "       126.23279945, 128.12540305, 113.23310016, 117.51429733,\n",
       "       120.82390029, 127.34079784, 119.75990053, 136.43470049,\n",
       "        93.94679913, 119.73000063, 113.21200082,  94.19599935,\n",
       "       108.56689963,  86.96739891, 109.33699924,  89.63539988,\n",
       "        92.30220013, 131.75620301, 162.38670099,  89.45070037,\n",
       "       119.36910093, 133.40740175, 123.85930055, 128.38500228,\n",
       "       101.94689862,  88.90349888, 131.46920054, 119.78159996,\n",
       "       108.55800007, 168.64390125, 115.25920041,  86.52529895,\n",
       "       118.9431006 ,  91.18869946, 161.93500004, 116.40670022,\n",
       "       121.64330034, 160.2024981 , 120.11239913, 112.89619923,\n",
       "       108.48459872, 126.59969983,  75.97190048, 103.05240002,\n",
       "       127.21230239, 121.82319969,  92.55600008, 131.97760091,\n",
       "       118.14630124, 116.09149979, 154.56000255, 159.00760089,\n",
       "       109.80059964, 156.01139728, 119.40240094, 160.80210087,\n",
       "       118.47320048, 157.80609871, 114.99369944, 116.76070037,\n",
       "       149.01419861, 114.72780086, 125.7848989 , 166.61499928,\n",
       "       117.76590017, 125.2311994 , 153.46020329, 153.52980281,\n",
       "       132.24010058, 114.83410043, 121.22340151, 124.96380089,\n",
       "        89.76950072, 122.67290002, 154.93930205, 111.74740022,\n",
       "       106.80109999, 161.75490148, 118.39969948, 165.77760006,\n",
       "       134.3286007 , 114.92229993, 153.06749901, 168.83430053,\n",
       "       114.49820001, 113.85770116, 158.5522991 ,  85.27719912,\n",
       "       127.19900028, 127.99950033, 128.88669983, 124.24480045,\n",
       "       123.85950078,  90.5047006 , 153.24079987,  96.9736997 ,\n",
       "       138.04309958,  89.01649895, 106.9785003 , 115.0390005 ,\n",
       "       112.63200071, 123.97239925,  91.46549866, 125.39330136,\n",
       "       162.36929823, 119.80559918, 164.82990153, 126.85799803,\n",
       "       112.28060021, 127.73019926,  94.95689907,  90.74729999,\n",
       "       102.67079922, 120.80239998,  82.77729978, 126.36450011,\n",
       "       160.25250439, 117.25820094, 118.29710001, 120.14909963,\n",
       "       122.73909961, 120.09680124, 121.48170022, 118.15050065,\n",
       "       107.06249976, 148.01539956, 126.19259901, 115.70750071,\n",
       "        73.70000007, 127.82130088, 155.00020026, 122.64020041,\n",
       "       125.60440035,  88.94390024, 102.95709859, 124.91080039,\n",
       "       120.21560035,  73.31810078, 151.24269973, 120.95070043,\n",
       "       104.64730005,  86.65649761, 114.97349906, 172.24539879,\n",
       "       119.88880021, 159.47809812, 113.23799961, 121.13700029,\n",
       "       118.52560114,  96.00049985, 118.75170016, 125.91940029,\n",
       "       118.72889962,  95.81000037, 153.72320183, 122.19909996,\n",
       "       147.39319959, 159.38730213, 113.81310016, 122.53909934,\n",
       "       148.44649784, 127.16140042, 165.95390046, 135.76720047,\n",
       "       120.03969954, 167.29409829, 108.44029922, 121.84009846,\n",
       "       138.71990159, 106.544799  ])"
      ]
     },
     "execution_count": 30,
     "metadata": {},
     "output_type": "execute_result"
    }
   ],
   "source": [
    "prediction1"
   ]
  },
  {
   "cell_type": "code",
   "execution_count": 33,
   "id": "929167b4",
   "metadata": {},
   "outputs": [
    {
     "name": "stdout",
     "output_type": "stream",
     "text": [
      "R squared error :  0.9888956401799355\n"
     ]
    }
   ],
   "source": [
    "error_score = metrics.r2_score(y_test,prediction1)\n",
    "print(\"R squared error : \", error_score)"
   ]
  }
 ],
 "metadata": {
  "kernelspec": {
   "display_name": "Python 3 (ipykernel)",
   "language": "python",
   "name": "python3"
  },
  "language_info": {
   "codemirror_mode": {
    "name": "ipython",
    "version": 3
   },
   "file_extension": ".py",
   "mimetype": "text/x-python",
   "name": "python",
   "nbconvert_exporter": "python",
   "pygments_lexer": "ipython3",
   "version": "3.9.12"
  }
 },
 "nbformat": 4,
 "nbformat_minor": 5
}
